{
  "nbformat": 4,
  "nbformat_minor": 0,
  "metadata": {
    "colab": {
      "name": "ConvertReferecesToBibtexKey.ipynb",
      "version": "0.3.2",
      "provenance": [],
      "collapsed_sections": [],
      "toc_visible": true,
      "include_colab_link": true
    },
    "kernelspec": {
      "name": "python3",
      "display_name": "Python 3"
    }
  },
  "cells": [
    {
      "cell_type": "markdown",
      "metadata": {
        "id": "view-in-github",
        "colab_type": "text"
      },
      "source": [
        "[View in Colaboratory](https://colab.research.google.com/github/pmanandhar1452/ChromosomeAtlas/blob/master/ConvertReferecesToBibtexKey.ipynb)"
      ]
    },
    {
      "metadata": {
        "id": "H8UOw9aq--tX",
        "colab_type": "text"
      },
      "cell_type": "markdown",
      "source": [
        "# Examples\n",
        "\n",
        "Sakya (1995) converts to Sakya1995\n",
        "Sakya & Manandhar (2002) converst to SakyaManandhar2002 "
      ]
    },
    {
      "metadata": {
        "id": "fbQfp7tKBx9R",
        "colab_type": "code",
        "colab": {
          "base_uri": "https://localhost:8080/",
          "height": 69
        },
        "outputId": "765e999d-480c-472a-e8ae-0d46ebf13d53"
      },
      "cell_type": "code",
      "source": [
        "import re\n",
        "\n",
        "input_s = \"DeMorgan (1985)\"\n",
        "output_s = re.sub(r'(\\w+)\\s\\((\\w+)\\)', r'\\1\\2', input_s)\n",
        "print(output_s)\n",
        "\n",
        "# pattern 1 XYX (nnnn)\n",
        "reg_ex_s1 = r'^(\\w+)\\s\\((\\w+)\\)'\n",
        "reg_ex_o1 = r'\\1\\2'\n",
        "\n",
        "# pattern 2 XYZ & UVW (nnnn)\n",
        "reg_ex_s2 = r'^(\\w+)\\s\\&\\s(\\w+)\\s\\((\\w+)\\)'\n",
        "reg_ex_o2 = r'\\1\\2\\3'\n",
        "\n",
        "\n",
        "test_input_s = [\"DeMorgan (1985)\", \"Sakya & Manandhar (2002)\"]\n",
        "test_output_s = [\"DeMorgan1985\", \"SakyaManandhar2002\"]\n",
        "\n",
        "for i in range(len(test_input_s)):\n",
        "  in_s = test_input_s[i]\n",
        "  out_s = re.sub(reg_ex_s1, reg_ex_o1, in_s)\n",
        "  if out_s == in_s:\n",
        "    out_s = re.sub(reg_ex_s2, reg_ex_o2, in_s)\n",
        "  exp_s = test_output_s[i]\n",
        "  print(\"Input: %s Expected: %s Actual: %s\"%(in_s, exp_s, out_s))\n"
      ],
      "execution_count": 21,
      "outputs": [
        {
          "output_type": "stream",
          "text": [
            "DeMorgan1985\n",
            "Input: DeMorgan (1985) Expected: DeMorgan1985 Actual: DeMorgan1985\n",
            "Input: Sakya & Manandhar (2002) Expected: SakyaManandhar2002 Actual: SakyaManandhar2002\n"
          ],
          "name": "stdout"
        }
      ]
    },
    {
      "metadata": {
        "id": "-CippYcqvO-R",
        "colab_type": "code",
        "colab": {}
      },
      "cell_type": "code",
      "source": [
        ""
      ],
      "execution_count": 0,
      "outputs": []
    }
  ]
}