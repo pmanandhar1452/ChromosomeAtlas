{
  "nbformat": 4,
  "nbformat_minor": 0,
  "metadata": {
    "colab": {
      "name": "ConvertReferecesToBibtexKey.ipynb",
      "version": "0.3.2",
      "provenance": [],
      "collapsed_sections": [],
      "toc_visible": true,
      "include_colab_link": true
    },
    "kernelspec": {
      "name": "python3",
      "display_name": "Python 3"
    }
  },
  "cells": [
    {
      "cell_type": "markdown",
      "metadata": {
        "id": "view-in-github",
        "colab_type": "text"
      },
      "source": [
        "[View in Colaboratory](https://colab.research.google.com/github/pmanandhar1452/ChromosomeAtlas/blob/master/ConvertReferecesToBibtexKey.ipynb)"
      ]
    },
    {
      "metadata": {
        "id": "H8UOw9aq--tX",
        "colab_type": "text"
      },
      "cell_type": "markdown",
      "source": [
        "# Examples\n",
        "\n",
        "Sakya (1995) converts to Sakya1995\n",
        "Sakya & Manandhar (2002) converst to SakyaManandhar2002 "
      ]
    },
    {
      "metadata": {
        "id": "fbQfp7tKBx9R",
        "colab_type": "code",
        "colab": {
          "base_uri": "https://localhost:8080/",
          "height": 34
        },
        "outputId": "088c4f69-eac5-4ff0-ac35-066f7dc04c2e"
      },
      "cell_type": "code",
      "source": [
        "import re\n",
        "\n",
        "input_s = \"Sakya (1995)\"\n",
        "output_s = re.sub(r'(\\w+)\\s\\((\\w+)\\)', r'\\1\\2', input_s)\n",
        "print(output_s)\n"
      ],
      "execution_count": 11,
      "outputs": [
        {
          "output_type": "stream",
          "text": [
            "Sakya1995\n"
          ],
          "name": "stdout"
        }
      ]
    },
    {
      "metadata": {
        "id": "GC0U_ZVaF2Qp",
        "colab_type": "code",
        "colab": {}
      },
      "cell_type": "code",
      "source": [
        ""
      ],
      "execution_count": 0,
      "outputs": []
    }
  ]
}