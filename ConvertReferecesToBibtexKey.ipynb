{
  "nbformat": 4,
  "nbformat_minor": 0,
  "metadata": {
    "colab": {
      "name": "ConvertReferecesToBibtexKey.ipynb",
      "version": "0.3.2",
      "provenance": [],
      "collapsed_sections": [],
      "toc_visible": true,
      "include_colab_link": true
    },
    "kernelspec": {
      "name": "python3",
      "display_name": "Python 3"
    }
  },
  "cells": [
    {
      "cell_type": "markdown",
      "metadata": {
        "id": "view-in-github",
        "colab_type": "text"
      },
      "source": [
        "[View in Colaboratory](https://colab.research.google.com/github/pmanandhar1452/ChromosomeAtlas/blob/master/ConvertReferecesToBibtexKey.ipynb)"
      ]
    },
    {
      "metadata": {
        "id": "H8UOw9aq--tX",
        "colab_type": "text"
      },
      "cell_type": "markdown",
      "source": [
        "# Examples\n",
        "\n",
        "Sakya (1995) converts to Sakya1995\n",
        "Sakya & Manandhar (2002) converst to SakyaManandhar2002 "
      ]
    },
    {
      "metadata": {
        "id": "fbQfp7tKBx9R",
        "colab_type": "code",
        "colab": {}
      },
      "cell_type": "code",
      "source": [
        "input = \"Sakya (1995)\"\n"
      ],
      "execution_count": 0,
      "outputs": []
    }
  ]
}